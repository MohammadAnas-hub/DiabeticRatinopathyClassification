{
 "cells": [
  {
   "cell_type": "code",
   "execution_count": 2,
   "id": "e839a157",
   "metadata": {},
   "outputs": [],
   "source": [
    "import sklearn\n",
    "import torch\n",
    "from torch import nn\n",
    "from torch.utils.data import Dataset, DataLoader\n",
    "import pandas as pd\n",
    "from PIL import Image\n",
    "import cv2\n",
    "from torchvision.transforms import ToTensor\n",
    "import numpy as np\n",
    "from tqdm import tqdm\n",
    "import torchvision.transforms as transforms\n",
    "from torchvision import datasets\n"
   ]
  },
  {
   "cell_type": "code",
   "execution_count": null,
   "id": "e03e1c28",
   "metadata": {},
   "outputs": [],
   "source": [
    "3, 224, 224\n",
    "\n",
    "h = (h - k + 2*paddinf)/stride + 1\n",
    "\n",
    "h = (224 - 3 + 2)/1 + 1 = 223 + 1 = 224\n",
    "w = (224 - 3 + 2)/1 + 1 = 223 + 1 = 224\n",
    "\n",
    "h = 112\n",
    "w = 112\n",
    "\n",
    "56 * 56"
   ]
  },
  {
   "cell_type": "code",
   "execution_count": 3,
   "id": "ceac7480",
   "metadata": {},
   "outputs": [],
   "source": [
    "class EyeModel(nn.Module):\n",
    "    \n",
    "    def __init__(self, input_shape: int, hidden_units : int, output_shape: int):\n",
    "        super().__init__()\n",
    "        self.conv_block_1 = nn.Sequential(\n",
    "            nn.Conv2d(in_channels=input_shape, \n",
    "                      out_channels=hidden_units, \n",
    "                      kernel_size=3, \n",
    "                      stride=1, \n",
    "                      padding=1),     \n",
    "            nn.ReLU(),\n",
    "            nn.Conv2d(in_channels=hidden_units, \n",
    "                      out_channels=hidden_units, \n",
    "                      kernel_size=3, \n",
    "                      stride=1, \n",
    "                      padding=1),\n",
    "            nn.ReLU(),\n",
    "            nn.MaxPool2d(kernel_size=2)\n",
    "        )\n",
    "        \n",
    "        self.conv_block_2 = nn.Sequential(\n",
    "            nn.Conv2d(in_channels=hidden_units,\n",
    "                     out_channels=hidden_units,\n",
    "                     kernel_size=3,\n",
    "                     stride=1,\n",
    "                     padding=1),\n",
    "            nn.ReLU(),\n",
    "            nn.Conv2d(in_channels=hidden_units,\n",
    "                     out_channels=hidden_units,\n",
    "                     kernel_size=3,\n",
    "                     stride=1,\n",
    "                     padding=1),\n",
    "            nn.ReLU(),\n",
    "            nn.MaxPool2d(kernel_size=2)\n",
    "        )\n",
    "        \n",
    "        self.classifier = nn.Sequential(\n",
    "            nn.Flatten(),\n",
    "            nn.Linear(in_features=hidden_units *56*56, out_features=output_shape)\n",
    "        )\n",
    "        \n",
    "    def forward(self, x):\n",
    "        x = self.conv_block_1(x)\n",
    "#         print(x.shape)\n",
    "        x = self.conv_block_2(x)\n",
    "#         print(x.shape)\n",
    "        x = self.classifier(x)\n",
    "        return x"
   ]
  },
  {
   "cell_type": "code",
   "execution_count": 4,
   "id": "38398541",
   "metadata": {},
   "outputs": [
    {
     "data": {
      "text/plain": [
       "'cuda'"
      ]
     },
     "execution_count": 4,
     "metadata": {},
     "output_type": "execute_result"
    }
   ],
   "source": [
    "device = \"cuda\" if torch.cuda.is_available() else \"cpu\"\n",
    "device"
   ]
  },
  {
   "cell_type": "code",
   "execution_count": 5,
   "id": "736244e6",
   "metadata": {},
   "outputs": [],
   "source": [
    "# TRAINING FUNCTION\n",
    "def train_step(model: torch.nn.Module,\n",
    "              data_loader : torch.utils.data.dataloader,\n",
    "              loss_fn : torch.nn.Module,\n",
    "              optimizer : torch.optim.Optimizer,\n",
    "              accuracy_fn,\n",
    "              device : torch.device = device):\n",
    "    train_loss, train_acc = 0, 0\n",
    "    \n",
    "    model.train()\n",
    "    \n",
    "    for batch, (x, y) in enumerate(data_loader):\n",
    "        \n",
    "        x, y = x.to(device), y.to(device)\n",
    "        \n",
    "        y_pred = model(x)\n",
    "        \n",
    "        loss = loss_fn(y_pred, y)\n",
    "        train_loss += loss.item()\n",
    "        y_pred = torch.argmax(y_pred, dim=1)\n",
    "        train_acc += (y_pred==y).sum().item()/len(y_pred)\n",
    "        \n",
    "        \n",
    "        \n",
    "        optimizer.zero_grad()\n",
    "        \n",
    "        loss.backward()\n",
    "        \n",
    "        optimizer.step()\n",
    "        \n",
    "    \n",
    "    train_loss/= len(data_loader)\n",
    "    train_acc /= len(data_loader)\n",
    "    print(f\"Train Loss : {train_loss} | Train Acc : {train_acc}\")\n",
    "    return train_loss, train_acc\n",
    "    \n",
    "    "
   ]
  },
  {
   "cell_type": "code",
   "execution_count": 6,
   "id": "10604191",
   "metadata": {},
   "outputs": [],
   "source": [
    "def test_step(model : torch.nn.Module,\n",
    "             data_loader : torch.utils.data.dataloader,\n",
    "             loss_fn : torch.nn.Module,\n",
    "             accuracy_fn,\n",
    "             device: torch.device = device):\n",
    "    test_loss, test_acc = 0, 0\n",
    "    model.eval()\n",
    "    \n",
    "    with torch.inference_mode():\n",
    "        for x, y in data_loader:\n",
    "            x, y = x.to(device), y.to(device)\n",
    "            test_pred = model(x)\n",
    "            \n",
    "            tes_loss = loss_fn(test_pred, y)\n",
    "            test_loss += tes_loss.item()\n",
    "            \n",
    "            tes_acc = torch.argmax(torch.softmax(test_pred, dim=1), dim=1)\n",
    "            test_acc += (tes_acc==y).sum().item()/len(tes_acc)\n",
    "            \n",
    "        test_loss /= len(data_loader)\n",
    "        test_acc /= len(data_loader)\n",
    "        print(f\"Test Loss : {test_loss} | Test Acc : {test_acc}\")\n",
    "        return test_loss, test_acc\n",
    "        "
   ]
  },
  {
   "cell_type": "code",
   "execution_count": 7,
   "id": "d9f81ec9",
   "metadata": {},
   "outputs": [
    {
     "name": "stdout",
     "output_type": "stream",
     "text": [
      "it already existst\n"
     ]
    }
   ],
   "source": [
    "import requests\n",
    "\n",
    "from pathlib import Path\n",
    "\n",
    "\n",
    "if Path(\"helper_functions.py\").is_file():\n",
    "    print(\"it already existst\")\n",
    "else:\n",
    "    print(\"Downloading\")\n",
    "    request = requests.get(\"https://raw.githubusercontent.com/mrdbourke/pytorch-deep-learning/main/helper_functions.py\")\n",
    "    with open(\"helper_functions.py\", \"wb\") as f:\n",
    "        f.write(request.content)\n"
   ]
  },
  {
   "cell_type": "code",
   "execution_count": 8,
   "id": "fd90aa51",
   "metadata": {},
   "outputs": [],
   "source": [
    "model = EyeModel(input_shape=3, hidden_units=10, output_shape=5).to(device)"
   ]
  },
  {
   "cell_type": "code",
   "execution_count": 9,
   "id": "229720ef",
   "metadata": {},
   "outputs": [],
   "source": [
    "from helper_functions import accuracy_fn\n",
    "\n",
    "loss_fn = nn.CrossEntropyLoss()\n",
    "optimizer = torch.optim.SGD(params=model.parameters(),\n",
    "                           lr=0.1)"
   ]
  },
  {
   "cell_type": "code",
   "execution_count": null,
   "id": "c094728a",
   "metadata": {},
   "outputs": [],
   "source": []
  },
  {
   "cell_type": "code",
   "execution_count": 10,
   "id": "b5853aba",
   "metadata": {},
   "outputs": [],
   "source": [
    "class CustomDataset(Dataset):\n",
    "    def __init__(self, csv_file, transform=None):\n",
    "        self.data = pd.read_csv(csv_file)\n",
    "        self.transform = transform\n",
    "\n",
    "    def __len__(self):\n",
    "        return len(self.data)\n",
    "\n",
    "    def __getitem__(self, index):\n",
    "        img_path = self.data.iloc[index, 0]\n",
    "        img_path = train_images_folder + \"/\" + img_path + \".jpg\"\n",
    "#         image = Image.open(img_path).convert('RGB')\n",
    "        image = cv2.imread(img_path)\n",
    "        image = torch.tensor(image, dtype=torch.float32) / 255.0\n",
    "        image = image.permute(2, 0, 1)\n",
    "        \n",
    "        label = self.data.iloc[index, 1]\n",
    "        \n",
    "#         print(\"Image path:\", img_path)\n",
    "#         print(\"Label:\", label)\n",
    "\n",
    "        if self.transform is not None:\n",
    "            image = self.transform(image)\n",
    "\n",
    "        return image, label"
   ]
  },
  {
   "cell_type": "code",
   "execution_count": 13,
   "id": "39860d59",
   "metadata": {},
   "outputs": [],
   "source": [
    "transform = transforms.Compose([\n",
    "    transforms.Resize((224, 224)), # Resize the images to a consistent size\n",
    "    transforms.RandomEqualize(),\n",
    "    transforms.ToTensor()\n",
    "])\n",
    "\n",
    "train_dataset = datasets.ImageFolder(\"C:\\\\Kavhi's Folder\\\\College\\\\Project\\\\DATA\\\\archive\\\\colored_images\\\\colored_images\", transform=transform)\n",
    "test_dataset = datasets.ImageFolder(\"C:\\\\Kavhi's Folder\\\\College\\\\archive\\\\colored_images\\\\Test_Data\", transform=transform)\n",
    "\n",
    "\n",
    "train_dataloader = DataLoader(train_dataset, batch_size=4, shuffle=True)\n",
    "test_dataloader = DataLoader(test_dataset, batch_size=4, shuffle=True)"
   ]
  },
  {
   "cell_type": "code",
   "execution_count": null,
   "id": "1cd01b54",
   "metadata": {},
   "outputs": [],
   "source": []
  },
  {
   "cell_type": "code",
   "execution_count": 14,
   "id": "6c0e15a1",
   "metadata": {},
   "outputs": [
    {
     "data": {
      "text/plain": [
       "(torch.Size([4, 3, 224, 224]), torch.Size([4]))"
      ]
     },
     "execution_count": 14,
     "metadata": {},
     "output_type": "execute_result"
    }
   ],
   "source": [
    "image_batch, label_batch = next(iter(train_dataloader))\n",
    "image_batch.shape, label_batch.shape"
   ]
  },
  {
   "cell_type": "code",
   "execution_count": null,
   "id": "c45d243f",
   "metadata": {},
   "outputs": [],
   "source": []
  },
  {
   "cell_type": "code",
   "execution_count": null,
   "id": "1d95e6e3",
   "metadata": {},
   "outputs": [],
   "source": []
  },
  {
   "cell_type": "code",
   "execution_count": 16,
   "id": "931ce9fd",
   "metadata": {},
   "outputs": [
    {
     "data": {
      "text/plain": [
       "2"
      ]
     },
     "execution_count": 16,
     "metadata": {},
     "output_type": "execute_result"
    }
   ],
   "source": [
    "import random\n",
    "random.seed(42)\n",
    "random.randint(1, 10)"
   ]
  },
  {
   "cell_type": "code",
   "execution_count": 17,
   "id": "869c57ff",
   "metadata": {
    "scrolled": true
   },
   "outputs": [
    {
     "name": "stderr",
     "output_type": "stream",
     "text": [
      "\r",
      "  0%|                                                                                            | 0/3 [00:00<?, ?it/s]"
     ]
    },
    {
     "name": "stdout",
     "output_type": "stream",
     "text": [
      "Epoch : 0\n",
      "----------\n",
      "Train Loss : 0.873450767984425 | Train Acc : 0.7347130494192666\n"
     ]
    },
    {
     "name": "stderr",
     "output_type": "stream",
     "text": [
      "\r",
      " 33%|███████████████████████████▋                                                       | 1/3 [01:55<03:51, 115.79s/it]"
     ]
    },
    {
     "name": "stdout",
     "output_type": "stream",
     "text": [
      "Test Loss : 1.227682294550857 | Test Acc : 0.6125461254612546\n",
      "Epoch : 1\n",
      "----------\n",
      "Train Loss : 0.8701508084748579 | Train Acc : 0.7347699840583011\n"
     ]
    },
    {
     "name": "stderr",
     "output_type": "stream",
     "text": [
      "\r",
      " 67%|████████████████████████████████████████████████████████                            | 2/3 [03:10<01:31, 91.50s/it]"
     ]
    },
    {
     "name": "stdout",
     "output_type": "stream",
     "text": [
      "Test Loss : 1.2067939704524635 | Test Acc : 0.6123154981549815\n",
      "Epoch : 2\n",
      "----------\n",
      "Train Loss : 0.8701039269138946 | Train Acc : 0.7347699840583011\n"
     ]
    },
    {
     "name": "stderr",
     "output_type": "stream",
     "text": [
      "100%|████████████████████████████████████████████████████████████████████████████████████| 3/3 [04:24<00:00, 88.13s/it]"
     ]
    },
    {
     "name": "stdout",
     "output_type": "stream",
     "text": [
      "Test Loss : 1.1874061904820128 | Test Acc : 0.6123923739237392\n"
     ]
    },
    {
     "name": "stderr",
     "output_type": "stream",
     "text": [
      "\n"
     ]
    }
   ],
   "source": [
    "torch.manual_seed(42)\n",
    "torch.cuda.manual_seed(42)\n",
    "\n",
    "from timeit import default_timer as timer\n",
    "train_start_time = timer()\n",
    "\n",
    "epochs = 3\n",
    "for epoch in tqdm(range(epochs)):\n",
    "    print(f\"Epoch : {epoch}\\n----------\")\n",
    "    train_step(model=model,\n",
    "              data_loader=train_dataloader,\n",
    "              loss_fn=loss_fn,\n",
    "              optimizer=optimizer,\n",
    "              accuracy_fn=accuracy_fn)\n",
    "    test_step(model=model,\n",
    "              data_loader=test_dataloader,\n",
    "              loss_fn=loss_fn,\n",
    "              accuracy_fn=accuracy_fn\n",
    "              )\n",
    "    \n",
    "train_end_time = timer()\n",
    "total_time = train_end_time - train_start_time"
   ]
  },
  {
   "cell_type": "code",
   "execution_count": 22,
   "id": "97f992ff",
   "metadata": {},
   "outputs": [],
   "source": [
    "from torchinfo import summary"
   ]
  },
  {
   "cell_type": "code",
   "execution_count": 23,
   "id": "804eec1e",
   "metadata": {},
   "outputs": [
    {
     "data": {
      "text/plain": [
       "==========================================================================================\n",
       "Layer (type:depth-idx)                   Output Shape              Param #\n",
       "==========================================================================================\n",
       "EyeModel                                 [1, 5]                    --\n",
       "├─Sequential: 1-1                        [1, 10, 112, 112]         --\n",
       "│    └─Conv2d: 2-1                       [1, 10, 224, 224]         280\n",
       "│    └─ReLU: 2-2                         [1, 10, 224, 224]         --\n",
       "│    └─Conv2d: 2-3                       [1, 10, 224, 224]         910\n",
       "│    └─ReLU: 2-4                         [1, 10, 224, 224]         --\n",
       "│    └─MaxPool2d: 2-5                    [1, 10, 112, 112]         --\n",
       "├─Sequential: 1-2                        [1, 10, 56, 56]           --\n",
       "│    └─Conv2d: 2-6                       [1, 10, 112, 112]         910\n",
       "│    └─ReLU: 2-7                         [1, 10, 112, 112]         --\n",
       "│    └─Conv2d: 2-8                       [1, 10, 112, 112]         910\n",
       "│    └─ReLU: 2-9                         [1, 10, 112, 112]         --\n",
       "│    └─MaxPool2d: 2-10                   [1, 10, 56, 56]           --\n",
       "├─Sequential: 1-3                        [1, 5]                    --\n",
       "│    └─Flatten: 2-11                     [1, 31360]                --\n",
       "│    └─Linear: 2-12                      [1, 5]                    156,805\n",
       "==========================================================================================\n",
       "Total params: 159,815\n",
       "Trainable params: 159,815\n",
       "Non-trainable params: 0\n",
       "Total mult-adds (M): 82.70\n",
       "==========================================================================================\n",
       "Input size (MB): 0.60\n",
       "Forward/backward pass size (MB): 10.04\n",
       "Params size (MB): 0.64\n",
       "Estimated Total Size (MB): 11.28\n",
       "=========================================================================================="
      ]
     },
     "execution_count": 23,
     "metadata": {},
     "output_type": "execute_result"
    }
   ],
   "source": [
    "summary(model, input_size=[1, 3, 224, 224])"
   ]
  },
  {
   "cell_type": "code",
   "execution_count": null,
   "id": "f7c80a41",
   "metadata": {},
   "outputs": [],
   "source": []
  },
  {
   "cell_type": "code",
   "execution_count": null,
   "id": "1465cff7",
   "metadata": {},
   "outputs": [],
   "source": []
  },
  {
   "cell_type": "code",
   "execution_count": 23,
   "id": "94016924",
   "metadata": {},
   "outputs": [],
   "source": [
    "from tqdm import tqdm\n",
    "\n",
    "def train(model: torch.nn.Module,\n",
    "         train_dataloader: torch.utils.data.dataloader,\n",
    "         test_dataloader: torch.utils.data.dataloader,\n",
    "         optimizer: torch.optim.Optimizer,\n",
    "         loss_fn: torch.nn.Module,\n",
    "         epochs: int = 5,\n",
    "         device = \"CPU\"):\n",
    "    \n",
    "    results = {\"train_loss\":[],\n",
    "              \"train_acc\":[],\n",
    "              \"test_loss\":[],\n",
    "              \"test_acc\":[]}\n",
    "    \n",
    "    for epoch in tqdm(range(epochs)):\n",
    "        train_loss, train_acc = train_step(model=model,\n",
    "                                          data_loader=train_dataloader,\n",
    "                                          loss_fn=loss_fn,\n",
    "                                          optimizer=optimizer,\n",
    "                                          accuracy_fn=None,\n",
    "                                          device=device)\n",
    "        test_loss, test_acc = test_step(model=model,\n",
    "                                       data_loader=test_dataloader,\n",
    "                                       loss_fn=loss_fn,\n",
    "                                       accuracy_fn=None,\n",
    "                                       device=device)\n",
    "        \n",
    "        print(f\"Epoch : {epoch} | Train Loss : {train_loss:.4f} | Train Acc : {train_acc:.4f} | Test Loss : {test_loss:.4f} | Test Acc : {test_acc:.4f}\")\n",
    "        \n",
    "        results[\"train_loss\"].append(train_loss)\n",
    "        results[\"test_loss\"].append(test_loss)\n",
    "        results[\"train_acc\"].append(train_acc)\n",
    "        results[\"test_acc\"].append(test_acc)\n",
    "        \n",
    "    return results"
   ]
  },
  {
   "cell_type": "code",
   "execution_count": null,
   "id": "942a54e3",
   "metadata": {},
   "outputs": [],
   "source": []
  },
  {
   "cell_type": "code",
   "execution_count": null,
   "id": "c912c384",
   "metadata": {},
   "outputs": [],
   "source": []
  },
  {
   "cell_type": "code",
   "execution_count": null,
   "id": "1f6eaffd",
   "metadata": {},
   "outputs": [],
   "source": []
  },
  {
   "cell_type": "code",
   "execution_count": null,
   "id": "d1a991a0",
   "metadata": {},
   "outputs": [],
   "source": []
  },
  {
   "cell_type": "code",
   "execution_count": null,
   "id": "17de6009",
   "metadata": {},
   "outputs": [],
   "source": []
  },
  {
   "cell_type": "code",
   "execution_count": null,
   "id": "b76d2514",
   "metadata": {},
   "outputs": [],
   "source": []
  }
 ],
 "metadata": {
  "kernelspec": {
   "display_name": "Python 3 (ipykernel)",
   "language": "python",
   "name": "python3"
  },
  "language_info": {
   "codemirror_mode": {
    "name": "ipython",
    "version": 3
   },
   "file_extension": ".py",
   "mimetype": "text/x-python",
   "name": "python",
   "nbconvert_exporter": "python",
   "pygments_lexer": "ipython3",
   "version": "3.8.10"
  }
 },
 "nbformat": 4,
 "nbformat_minor": 5
}
